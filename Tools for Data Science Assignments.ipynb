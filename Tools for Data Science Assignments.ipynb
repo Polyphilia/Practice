{
  "metadata": {
    "kernelspec": {
      "name": "python",
      "display_name": "Python (Pyodide)",
      "language": "python"
    },
    "language_info": {
      "codemirror_mode": {
        "name": "python",
        "version": 3
      },
      "file_extension": ".py",
      "mimetype": "text/x-python",
      "name": "python",
      "nbconvert_exporter": "python",
      "pygments_lexer": "ipython3",
      "version": "3.8"
    }
  },
  "nbformat_minor": 4,
  "nbformat": 4,
  "cells": [
    {
      "cell_type": "markdown",
      "source": "# Data Science Tools and ecosystem",
      "metadata": {}
    },
    {
      "cell_type": "markdown",
      "source": "### In this notebook, data science tools and ecosystem are summarized.",
      "metadata": {}
    },
    {
      "cell_type": "markdown",
      "source": "**Objectives:**\n- Add comments to code cell.\n- Create markdown cells.\n- Add ordered and unordered to markdown cells.\n- Format content of markdown cells with heading styles.",
      "metadata": {}
    },
    {
      "cell_type": "markdown",
      "source": "### Lists of programming language used in Data Science:\n1. Python\n2. R\n3. SQL\n4. Scala\n5. Java\n6. C++\n7. Julia\n8. JavaScript\n9. PHP\n10. Go\n11. Ruby\n12. Visual Basic",
      "metadata": {
        "jp-MarkdownHeadingCollapsed": true
      }
    },
    {
      "cell_type": "markdown",
      "source": "### Lists of Libraries used in Data Science:\n1. Pandas\n2. Numpy\n3. Matplotl\n4. Seaborn\n5. Scikit-learn\n6. Keras\n7. TensorFlow\n8. PyTorch\n9. Apache Spark\n10. Vegas\n11. Big DL\n12. Ggplot2",
      "metadata": {
        "jp-MarkdownHeadingCollapsed": true
      }
    },
    {
      "cell_type": "markdown",
      "source": "## Table for Data Science tools\n| No. | Tool name |\n| -------------| ------ |\n| 1 | Anaconda |\n| 2 | Jupyter Notebook |\n| 3 | RStudio |\n| 4 | Spyder |\n| 5 | Git |\n| 6 | GitHub |",
      "metadata": {}
    },
    {
      "cell_type": "markdown",
      "source": "### Arithmetic expression example:\n#### There are many indication, for example:\n1. Add = +\n2. Subtract = -\n3. Multiply = *\n4. Divide = /",
      "metadata": {}
    },
    {
      "cell_type": "code",
      "source": "a = 20+5\nb = 25*25\na",
      "metadata": {
        "trusted": true
      },
      "outputs": [
        {
          "execution_count": 9,
          "output_type": "execute_result",
          "data": {
            "text/plain": "25"
          },
          "metadata": {}
        }
      ],
      "execution_count": 9
    },
    {
      "cell_type": "code",
      "source": "b",
      "metadata": {
        "trusted": true
      },
      "outputs": [
        {
          "execution_count": 7,
          "output_type": "execute_result",
          "data": {
            "text/plain": "625"
          },
          "metadata": {}
        }
      ],
      "execution_count": 7
    },
    {
      "cell_type": "code",
      "source": "minutes = 360\nhour = minutes/60\nhour",
      "metadata": {
        "trusted": true
      },
      "outputs": [
        {
          "execution_count": 4,
          "output_type": "execute_result",
          "data": {
            "text/plain": "6.0"
          },
          "metadata": {}
        }
      ],
      "execution_count": 4
    },
    {
      "cell_type": "markdown",
      "source": "## **Author:**\n\nSuravee Tunyawanich",
      "metadata": {}
    },
    {
      "cell_type": "code",
      "source": "",
      "metadata": {
        "trusted": true
      },
      "outputs": [],
      "execution_count": null
    }
  ]
}