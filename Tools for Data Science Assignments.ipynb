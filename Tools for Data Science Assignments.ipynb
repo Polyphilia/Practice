{
  "metadata": {
    "kernelspec": {
      "name": "python",
      "display_name": "Python (Pyodide)",
      "language": "python"
    },
    "language_info": {
      "codemirror_mode": {
        "name": "python",
        "version": 3
      },
      "file_extension": ".py",
      "mimetype": "text/x-python",
      "name": "python",
      "nbconvert_exporter": "python",
      "pygments_lexer": "ipython3",
      "version": "3.8"
    }
  },
  "nbformat_minor": 4,
  "nbformat": 4,
  "cells": [
    {
      "cell_type": "markdown",
      "source": "## Tools for Data Science",
      "metadata": {}
    },
    {
      "cell_type": "markdown",
      "source": "### This course is focused on which tools used in data science",
      "metadata": {}
    },
    {
      "cell_type": "markdown",
      "source": "#### Lists of programming language used in Data Science:\n1. Python\n2. R\n3. Java\n4. C++\n5. C",
      "metadata": {}
    },
    {
      "cell_type": "markdown",
      "source": "### Lists of Libraries used in Data Science:\n1. Pandas\n2. NumPy\n3. Matplotlib\n4. Seaborn\n5. Scikit Learn\n6. Keras\n7. Tensorflow\n8. PyTorch\n9. ApacheSpark",
      "metadata": {}
    },
    {
      "cell_type": "markdown",
      "source": "## Table for Data Science tools\n| No. | Tool name |\n| -------------| ------ |\n| 1 | Python |\n| 2 | R |\n| 3 | Scala |\n| 4 | Git |\n| 5 | GitHub |",
      "metadata": {}
    },
    {
      "cell_type": "markdown",
      "source": "### Arithmetic expression example:\n#### There are many indication, for example:\n1. Add = +\n2. Subtract = -\n3. Multiply = *\n4. Divide = /",
      "metadata": {}
    },
    {
      "cell_type": "code",
      "source": "x = 4\ny = 5\na = 6\nb = 7\nprint(a+b)\nprint(x*y)",
      "metadata": {
        "trusted": true
      },
      "outputs": [],
      "execution_count": null
    },
    {
      "cell_type": "code",
      "source": "minutes = 360\nhour = minutes/60",
      "metadata": {
        "trusted": true
      },
      "outputs": [],
      "execution_count": null
    },
    {
      "cell_type": "markdown",
      "source": "## Objectives for this course\n1. Describe the components of a Data Scientist's toolkit and list various tool categories.\n2. List examples of open-source tools used in data science.\n3. Describe the relevant features of open-source tools.\n4. List examples of commercial and cloud-based data science tools.",
      "metadata": {}
    },
    {
      "cell_type": "markdown",
      "source": "### Author: Suravee Tunyawanich",
      "metadata": {}
    },
    {
      "cell_type": "code",
      "source": "",
      "metadata": {
        "trusted": true
      },
      "outputs": [],
      "execution_count": null
    }
  ]
}